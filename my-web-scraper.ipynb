{
 "metadata": {
  "language_info": {
   "codemirror_mode": {
    "name": "ipython",
    "version": 3
   },
   "file_extension": ".py",
   "mimetype": "text/x-python",
   "name": "python",
   "nbconvert_exporter": "python",
   "pygments_lexer": "ipython3",
   "version": "3.8.5"
  },
  "orig_nbformat": 2,
  "kernelspec": {
   "name": "pythonjvsc74a57bd01663710af4c31f02b02590ac5ef82cd03ec74338c2d6d567603bd1426377eed8",
   "display_name": "Python 3.8.5  ('venv': venv)"
  },
  "metadata": {
   "interpreter": {
    "hash": "1663710af4c31f02b02590ac5ef82cd03ec74338c2d6d567603bd1426377eed8"
   }
  }
 },
 "nbformat": 4,
 "nbformat_minor": 2,
 "cells": [
  {
   "cell_type": "code",
   "execution_count": 2,
   "metadata": {},
   "outputs": [],
   "source": [
    "import pandas as pd\n",
    "from bs4 import BeautifulSoup\n",
    "import requests"
   ]
  },
  {
   "cell_type": "code",
   "execution_count": 3,
   "metadata": {},
   "outputs": [
    {
     "output_type": "execute_result",
     "data": {
      "text/plain": [
       "['https://quotes.toscrape.com/page/1',\n",
       " 'https://quotes.toscrape.com/page/2',\n",
       " 'https://quotes.toscrape.com/page/3',\n",
       " 'https://quotes.toscrape.com/page/4',\n",
       " 'https://quotes.toscrape.com/page/5',\n",
       " 'https://quotes.toscrape.com/page/6',\n",
       " 'https://quotes.toscrape.com/page/7',\n",
       " 'https://quotes.toscrape.com/page/8',\n",
       " 'https://quotes.toscrape.com/page/9',\n",
       " 'https://quotes.toscrape.com/page/10']"
      ]
     },
     "metadata": {},
     "execution_count": 3
    }
   ],
   "source": [
    "WEBSITE = \"https://quotes.toscrape.com\"\n",
    "page_urls = []\n",
    "for i in range(1,11):\n",
    "    new_url = WEBSITE + \"/\" +\"page\" +\"/\" + str(i)\n",
    "    page_urls.append(new_url)\n",
    "page_urls"
   ]
  },
  {
   "cell_type": "code",
   "execution_count": 4,
   "metadata": {},
   "outputs": [],
   "source": [
    "all_quotes = []\n",
    "\n",
    "for i in range(0,10):\n",
    "    html_content = requests.get(page_urls[i]).content\n",
    "    soup = BeautifulSoup(html_content)\n",
    "    quotes = soup.find_all(\"div\", class_=\"quote\")\n",
    "      \n",
    "    for quote in quotes:\n",
    "      authors = quote.find(\"small\", class_=\"author\").text.strip()\n",
    "      quotes = quote.find(\"span\", class_= \"text\").text.strip()\n",
    "      tags = quote.find(\"div\", class_=\"tags\").find_all(\"a\")\n",
    "\n",
    "      li_tags = []\n",
    "      for tag in tags:\n",
    "        li_tags.append(tag.text.strip())\n",
    "\n",
    "      single_quote = [authors,quotes,li_tags]\n",
    "      all_quotes.append(single_quote)"
   ]
  },
  {
   "cell_type": "code",
   "execution_count": 13,
   "metadata": {},
   "outputs": [],
   "source": [
    "df = pd.DataFrame(all_quotes,columns=[\"Author\",\"Quote\",\"tags\"])\n",
    "df.to_excel('output1.xlsx', header=False, index=False)\n"
   ]
  },
  {
   "cell_type": "code",
   "execution_count": null,
   "metadata": {},
   "outputs": [],
   "source": []
  }
 ]
}